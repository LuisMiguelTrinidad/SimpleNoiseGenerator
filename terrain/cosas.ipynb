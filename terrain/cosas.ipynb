{
 "cells": [
  {
   "cell_type": "code",
   "execution_count": null,
   "metadata": {},
   "outputs": [
    {
     "ename": "TypeError",
     "evalue": "Expected Light instance, got str instead.",
     "output_type": "error",
     "traceback": [
      "\u001b[0;31m---------------------------------------------------------------------------\u001b[0m",
      "\u001b[0;31mTypeError\u001b[0m                                 Traceback (most recent call last)",
      "Cell \u001b[0;32mIn[13], line 28\u001b[0m\n\u001b[1;32m     24\u001b[0m \u001b[38;5;66;03m# Attach the grayscale shader to the actor\u001b[39;00m\n\u001b[1;32m     25\u001b[0m \n\u001b[1;32m     26\u001b[0m \u001b[38;5;66;03m# Set up the camera and lighting\u001b[39;00m\n\u001b[1;32m     27\u001b[0m plotter\u001b[38;5;241m.\u001b[39mview_isometric()\n\u001b[0;32m---> 28\u001b[0m \u001b[43mplotter\u001b[49m\u001b[38;5;241;43m.\u001b[39;49m\u001b[43madd_light\u001b[49m\u001b[43m(\u001b[49m\u001b[43mlight\u001b[49m\u001b[38;5;241;43m=\u001b[39;49m\u001b[38;5;124;43m\"\u001b[39;49m\u001b[38;5;124;43mwhite\u001b[39;49m\u001b[38;5;124;43m\"\u001b[39;49m\u001b[43m)\u001b[49m\n\u001b[1;32m     29\u001b[0m plotter\u001b[38;5;241m.\u001b[39menable_shadows()\n\u001b[1;32m     31\u001b[0m \u001b[38;5;66;03m# Save the render with a transparent background\u001b[39;00m\n",
      "File \u001b[0;32m~/Escritorio/SimpleNoiseGenerator/.venv/lib/python3.10/site-packages/pyvista/plotting/plotter.py:6437\u001b[0m, in \u001b[0;36mBasePlotter.add_light\u001b[0;34m(self, light, only_active)\u001b[0m\n\u001b[1;32m   6435\u001b[0m renderers \u001b[38;5;241m=\u001b[39m [\u001b[38;5;28mself\u001b[39m\u001b[38;5;241m.\u001b[39mrenderer] \u001b[38;5;28;01mif\u001b[39;00m only_active \u001b[38;5;28;01melse\u001b[39;00m \u001b[38;5;28mself\u001b[39m\u001b[38;5;241m.\u001b[39mrenderers\n\u001b[1;32m   6436\u001b[0m \u001b[38;5;28;01mfor\u001b[39;00m renderer \u001b[38;5;129;01min\u001b[39;00m renderers:\n\u001b[0;32m-> 6437\u001b[0m     \u001b[43mrenderer\u001b[49m\u001b[38;5;241;43m.\u001b[39;49m\u001b[43madd_light\u001b[49m\u001b[43m(\u001b[49m\u001b[43mlight\u001b[49m\u001b[43m)\u001b[49m\n",
      "File \u001b[0;32m~/Escritorio/SimpleNoiseGenerator/.venv/lib/python3.10/site-packages/pyvista/plotting/renderer.py:2330\u001b[0m, in \u001b[0;36mRenderer.add_light\u001b[0;34m(self, light)\u001b[0m\n\u001b[1;32m   2327\u001b[0m     light \u001b[38;5;241m=\u001b[39m pyvista\u001b[38;5;241m.\u001b[39mLight\u001b[38;5;241m.\u001b[39mfrom_vtk(light)\n\u001b[1;32m   2329\u001b[0m \u001b[38;5;28;01mif\u001b[39;00m \u001b[38;5;129;01mnot\u001b[39;00m \u001b[38;5;28misinstance\u001b[39m(light, pyvista\u001b[38;5;241m.\u001b[39mLight):\n\u001b[0;32m-> 2330\u001b[0m     \u001b[38;5;28;01mraise\u001b[39;00m \u001b[38;5;167;01mTypeError\u001b[39;00m(\u001b[38;5;124mf\u001b[39m\u001b[38;5;124m'\u001b[39m\u001b[38;5;124mExpected Light instance, got \u001b[39m\u001b[38;5;132;01m{\u001b[39;00m\u001b[38;5;28mtype\u001b[39m(light)\u001b[38;5;241m.\u001b[39m\u001b[38;5;18m__name__\u001b[39m\u001b[38;5;132;01m}\u001b[39;00m\u001b[38;5;124m instead.\u001b[39m\u001b[38;5;124m'\u001b[39m)\n\u001b[1;32m   2331\u001b[0m \u001b[38;5;28mself\u001b[39m\u001b[38;5;241m.\u001b[39m_lights\u001b[38;5;241m.\u001b[39mappend(light)\n\u001b[1;32m   2332\u001b[0m \u001b[38;5;28mself\u001b[39m\u001b[38;5;241m.\u001b[39mAddLight(light)\n",
      "\u001b[0;31mTypeError\u001b[0m: Expected Light instance, got str instead."
     ]
    }
   ],
   "source": [
    "import pyvista as pv\n",
    "\n",
    "# Load the .ply file\n",
    "mesh = pv.read(\"../images/eroded_terrain.ply\")\n",
    "\n",
    "# Compute elevation scalars if the mesh doesn't have them\n",
    "if not mesh.point_data:\n",
    "    mesh = mesh.elevation()\n",
    "\n",
    "# Initialize a plotter with a transparent background\n",
    "plotter = pv.Plotter(off_screen=True)\n",
    "plotter.set_background(color=\"black\")\n",
    "\n",
    "# Define a fragment shader to convert colors to grayscale\n",
    "shader_code = \"\"\"\n",
    "//VTK::Color::Impl\n",
    "float gray = dot(color.rgb, vec3(0.299, 0.587, 0.114));\n",
    "color = vec4(vec3(gray), color.a);\n",
    "\"\"\"\n",
    "\n",
    "# Add the mesh to the plotter (use elevation scalars for coloring)\n",
    "actor = plotter.add_mesh(mesh, cmap=\"viridis\")  # Colormap is overridden by the shader\n",
    "\n",
    "# Attach the grayscale shader to the actor\n",
    "\n",
    "# Set up the camera and lighting\n",
    "plotter.view_isometric()\n",
    "plotter.enable_shadows()\n",
    "\n",
    "# Save the render with a transparent background\n",
    "plotter.show(screenshot=\"terrain_render.png\")"
   ]
  }
 ],
 "metadata": {
  "kernelspec": {
   "display_name": ".venv",
   "language": "python",
   "name": "python3"
  },
  "language_info": {
   "codemirror_mode": {
    "name": "ipython",
    "version": 3
   },
   "file_extension": ".py",
   "mimetype": "text/x-python",
   "name": "python",
   "nbconvert_exporter": "python",
   "pygments_lexer": "ipython3",
   "version": "3.10.12"
  }
 },
 "nbformat": 4,
 "nbformat_minor": 2
}
